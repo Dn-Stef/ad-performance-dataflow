{
 "cells": [
  {
   "cell_type": "code",
   "execution_count": 1,
   "id": "b5a48a1a-4a13-4ff4-a333-4d6a0e10df41",
   "metadata": {},
   "outputs": [],
   "source": [
    "from kaggle.api.kaggle_api_extended import KaggleApi\n",
    "api = KaggleApi()\n",
    "api.authenticate()"
   ]
  },
  {
   "cell_type": "code",
   "execution_count": 2,
   "id": "2943eee3-7760-4626-95e9-e1d921b8de42",
   "metadata": {},
   "outputs": [
    {
     "name": "stdout",
     "output_type": "stream",
     "text": [
      "Dataset URL: https://www.kaggle.com/datasets/alperenmyung/social-media-advertisement-performance\n"
     ]
    },
    {
     "data": {
      "text/plain": [
       "True"
      ]
     },
     "execution_count": 2,
     "metadata": {},
     "output_type": "execute_result"
    }
   ],
   "source": [
    "api.dataset_download_file(\n",
    "    dataset='alperenmyung/social-media-advertisement-performance',\n",
    "    file_name='ad_campaign_db.sqlite',\n",
    "    path='.'\n",
    ")"
   ]
  },
  {
   "cell_type": "code",
   "execution_count": 3,
   "id": "9f5821db-18bf-426c-9543-e11402110c6a",
   "metadata": {},
   "outputs": [],
   "source": [
    "%load_ext sql"
   ]
  },
  {
   "cell_type": "code",
   "execution_count": 4,
   "id": "15c99089-7f83-43bf-a07e-83d7e68ab5fe",
   "metadata": {},
   "outputs": [],
   "source": [
    "import sqlite3\n",
    "conn = sqlite3.connect('ad_campaign_db.sqlite')"
   ]
  },
  {
   "cell_type": "code",
   "execution_count": 5,
   "id": "23a3eb2a-986a-4ece-84db-c0baca85fda9",
   "metadata": {},
   "outputs": [],
   "source": [
    "%sql sqlite:///ad_campaign_db.sqlite"
   ]
  },
  {
   "cell_type": "code",
   "execution_count": 6,
   "id": "fd0e8aa1-0ddf-4a93-b4b3-eb7eb8764420",
   "metadata": {},
   "outputs": [],
   "source": [
    "%config SqlMagic.style = '_DEPRECATED_DEFAULT'"
   ]
  },
  {
   "cell_type": "code",
   "execution_count": 7,
   "id": "83bcc2e6-7118-4ded-8176-50850353e087",
   "metadata": {},
   "outputs": [
    {
     "name": "stdout",
     "output_type": "stream",
     "text": [
      " * sqlite:///ad_campaign_db.sqlite\n",
      "Done.\n"
     ]
    },
    {
     "data": {
      "text/html": [
       "<table>\n",
       "    <thead>\n",
       "        <tr>\n",
       "            <th>name</th>\n",
       "        </tr>\n",
       "    </thead>\n",
       "    <tbody>\n",
       "        <tr>\n",
       "            <td>users</td>\n",
       "        </tr>\n",
       "        <tr>\n",
       "            <td>campaigns</td>\n",
       "        </tr>\n",
       "        <tr>\n",
       "            <td>ads</td>\n",
       "        </tr>\n",
       "        <tr>\n",
       "            <td>ad_events</td>\n",
       "        </tr>\n",
       "    </tbody>\n",
       "</table>"
      ],
      "text/plain": [
       "[('users',), ('campaigns',), ('ads',), ('ad_events',)]"
      ]
     },
     "execution_count": 7,
     "metadata": {},
     "output_type": "execute_result"
    }
   ],
   "source": [
    "%sql SELECT name FROM sqlite_master WHERE type='table'"
   ]
  },
  {
   "cell_type": "code",
   "execution_count": 8,
   "id": "e19d1421-ee93-4c57-8d95-3d6e5eb3deb9",
   "metadata": {},
   "outputs": [
    {
     "name": "stdout",
     "output_type": "stream",
     "text": [
      " * sqlite:///ad_campaign_db.sqlite\n",
      "Done.\n"
     ]
    },
    {
     "data": {
      "text/html": [
       "<table>\n",
       "    <thead>\n",
       "        <tr>\n",
       "            <th>user_id</th>\n",
       "            <th>user_gender</th>\n",
       "            <th>user_age</th>\n",
       "            <th>age_group</th>\n",
       "            <th>country</th>\n",
       "            <th>location</th>\n",
       "            <th>interests</th>\n",
       "        </tr>\n",
       "    </thead>\n",
       "    <tbody>\n",
       "        <tr>\n",
       "            <td>a2474</td>\n",
       "            <td>Female</td>\n",
       "            <td>24</td>\n",
       "            <td>18-24</td>\n",
       "            <td>United Kingdom</td>\n",
       "            <td>New Mariomouth</td>\n",
       "            <td>fitness, health</td>\n",
       "        </tr>\n",
       "        <tr>\n",
       "            <td>141e5</td>\n",
       "            <td>Male</td>\n",
       "            <td>21</td>\n",
       "            <td>18-24</td>\n",
       "            <td>Germany</td>\n",
       "            <td>Danielsfort</td>\n",
       "            <td>food, fitness, lifestyle</td>\n",
       "        </tr>\n",
       "        <tr>\n",
       "            <td>34db0</td>\n",
       "            <td>Male</td>\n",
       "            <td>27</td>\n",
       "            <td>25-34</td>\n",
       "            <td>Australia</td>\n",
       "            <td>Vincentchester</td>\n",
       "            <td>fashion, news</td>\n",
       "        </tr>\n",
       "        <tr>\n",
       "            <td>20d08</td>\n",
       "            <td>Female</td>\n",
       "            <td>28</td>\n",
       "            <td>25-34</td>\n",
       "            <td>India</td>\n",
       "            <td>Lisaport</td>\n",
       "            <td>health, news, finance</td>\n",
       "        </tr>\n",
       "        <tr>\n",
       "            <td>9e830</td>\n",
       "            <td>Male</td>\n",
       "            <td>28</td>\n",
       "            <td>25-34</td>\n",
       "            <td>United States</td>\n",
       "            <td>Brownmouth</td>\n",
       "            <td>health, photography, lifestyle</td>\n",
       "        </tr>\n",
       "    </tbody>\n",
       "</table>"
      ],
      "text/plain": [
       "[('a2474', 'Female', 24, '18-24', 'United Kingdom', 'New Mariomouth', 'fitness, health'),\n",
       " ('141e5', 'Male', 21, '18-24', 'Germany', 'Danielsfort', 'food, fitness, lifestyle'),\n",
       " ('34db0', 'Male', 27, '25-34', 'Australia', 'Vincentchester', 'fashion, news'),\n",
       " ('20d08', 'Female', 28, '25-34', 'India', 'Lisaport', 'health, news, finance'),\n",
       " ('9e830', 'Male', 28, '25-34', 'United States', 'Brownmouth', 'health, photography, lifestyle')]"
      ]
     },
     "execution_count": 8,
     "metadata": {},
     "output_type": "execute_result"
    }
   ],
   "source": [
    "%sql SELECT * FROM users LIMIT 5;"
   ]
  }
 ],
 "metadata": {
  "kernelspec": {
   "display_name": "Python 3 (ipykernel)",
   "language": "python",
   "name": "python3"
  },
  "language_info": {
   "codemirror_mode": {
    "name": "ipython",
    "version": 3
   },
   "file_extension": ".py",
   "mimetype": "text/x-python",
   "name": "python",
   "nbconvert_exporter": "python",
   "pygments_lexer": "ipython3",
   "version": "3.13.1"
  }
 },
 "nbformat": 4,
 "nbformat_minor": 5
}
