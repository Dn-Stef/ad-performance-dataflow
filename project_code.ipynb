{
 "cells": [
  {
   "cell_type": "markdown",
   "id": "f0a9c8ef-1d40-41d4-b73f-817ebe59f0c2",
   "metadata": {},
   "source": [
    "# Welcome to the heart of the project, the code. Through this Jupyter notebook, I'll share the thought process behind most of the code."
   ]
  },
  {
   "cell_type": "markdown",
   "id": "7f23de9b-e242-4a6f-b057-b6602de81bc0",
   "metadata": {},
   "source": [
    ">We begin by sending a request through the Kaggle API and pulling the database we're interested in from Kaggle:"
   ]
  },
  {
   "cell_type": "code",
   "execution_count": 1,
   "id": "b5a48a1a-4a13-4ff4-a333-4d6a0e10df41",
   "metadata": {},
   "outputs": [],
   "source": [
    "from kaggle.api.kaggle_api_extended import KaggleApi\n",
    "api = KaggleApi()\n",
    "api.authenticate()"
   ]
  },
  {
   "cell_type": "code",
   "execution_count": 2,
   "id": "2943eee3-7760-4626-95e9-e1d921b8de42",
   "metadata": {},
   "outputs": [
    {
     "name": "stdout",
     "output_type": "stream",
     "text": [
      "Dataset URL: https://www.kaggle.com/datasets/alperenmyung/social-media-advertisement-performance\n"
     ]
    },
    {
     "data": {
      "text/plain": [
       "True"
      ]
     },
     "execution_count": 2,
     "metadata": {},
     "output_type": "execute_result"
    }
   ],
   "source": [
    "api.dataset_download_file(\n",
    "    dataset='alperenmyung/social-media-advertisement-performance',\n",
    "    file_name='ad_campaign_db.sqlite',\n",
    "    path='.'\n",
    ")"
   ]
  },
  {
   "cell_type": "markdown",
   "id": "33c06ced-22d0-40d6-832d-f3b4a49b822a",
   "metadata": {},
   "source": [
    ">Then we load the SQL magic extension and establish a connection to the downloaded database."
   ]
  },
  {
   "cell_type": "code",
   "execution_count": 3,
   "id": "9f5821db-18bf-426c-9543-e11402110c6a",
   "metadata": {},
   "outputs": [],
   "source": [
    "%load_ext sql"
   ]
  },
  {
   "cell_type": "code",
   "execution_count": 4,
   "id": "15c99089-7f83-43bf-a07e-83d7e68ab5fe",
   "metadata": {},
   "outputs": [],
   "source": [
    "import sqlite3\n",
    "conn = sqlite3.connect('ad_campaign_db.sqlite')"
   ]
  },
  {
   "cell_type": "code",
   "execution_count": 5,
   "id": "23a3eb2a-986a-4ece-84db-c0baca85fda9",
   "metadata": {},
   "outputs": [],
   "source": [
    "%sql sqlite:///ad_campaign_db.sqlite"
   ]
  },
  {
   "cell_type": "markdown",
   "id": "aa1190f6-02fb-461b-bdd3-3a74f7bf0a49",
   "metadata": {},
   "source": [
    ">The following was used to fix an error caused by the default styling setting in magic SQL commands."
   ]
  },
  {
   "cell_type": "code",
   "execution_count": 6,
   "id": "fd0e8aa1-0ddf-4a93-b4b3-eb7eb8764420",
   "metadata": {},
   "outputs": [],
   "source": [
    "%config SqlMagic.style = '_DEPRECATED_DEFAULT'"
   ]
  },
  {
   "cell_type": "markdown",
   "id": "5c96c763-f161-4c61-8694-0195dd3ad5f3",
   "metadata": {},
   "source": [
    ">Lets see the tables:"
   ]
  },
  {
   "cell_type": "code",
   "execution_count": 7,
   "id": "83bcc2e6-7118-4ded-8176-50850353e087",
   "metadata": {},
   "outputs": [
    {
     "name": "stdout",
     "output_type": "stream",
     "text": [
      " * sqlite:///ad_campaign_db.sqlite\n",
      "Done.\n"
     ]
    },
    {
     "data": {
      "text/html": [
       "<table>\n",
       "    <thead>\n",
       "        <tr>\n",
       "            <th>name</th>\n",
       "        </tr>\n",
       "    </thead>\n",
       "    <tbody>\n",
       "        <tr>\n",
       "            <td>users</td>\n",
       "        </tr>\n",
       "        <tr>\n",
       "            <td>campaigns</td>\n",
       "        </tr>\n",
       "        <tr>\n",
       "            <td>ads</td>\n",
       "        </tr>\n",
       "        <tr>\n",
       "            <td>ad_events</td>\n",
       "        </tr>\n",
       "    </tbody>\n",
       "</table>"
      ],
      "text/plain": [
       "[('users',), ('campaigns',), ('ads',), ('ad_events',)]"
      ]
     },
     "execution_count": 7,
     "metadata": {},
     "output_type": "execute_result"
    }
   ],
   "source": [
    "%sql SELECT name FROM sqlite_master WHERE type='table'"
   ]
  },
  {
   "cell_type": "markdown",
   "id": "6cc1b60b-3bde-4d44-a73e-9058baf729f4",
   "metadata": {},
   "source": [
    ">A quick peek into one of the tables:"
   ]
  },
  {
   "cell_type": "code",
   "execution_count": 8,
   "id": "e19d1421-ee93-4c57-8d95-3d6e5eb3deb9",
   "metadata": {},
   "outputs": [
    {
     "name": "stdout",
     "output_type": "stream",
     "text": [
      " * sqlite:///ad_campaign_db.sqlite\n",
      "Done.\n"
     ]
    },
    {
     "data": {
      "text/html": [
       "<table>\n",
       "    <thead>\n",
       "        <tr>\n",
       "            <th>user_id</th>\n",
       "            <th>user_gender</th>\n",
       "            <th>user_age</th>\n",
       "            <th>age_group</th>\n",
       "            <th>country</th>\n",
       "            <th>location</th>\n",
       "            <th>interests</th>\n",
       "        </tr>\n",
       "    </thead>\n",
       "    <tbody>\n",
       "        <tr>\n",
       "            <td>a2474</td>\n",
       "            <td>Female</td>\n",
       "            <td>24</td>\n",
       "            <td>18-24</td>\n",
       "            <td>United Kingdom</td>\n",
       "            <td>New Mariomouth</td>\n",
       "            <td>fitness, health</td>\n",
       "        </tr>\n",
       "        <tr>\n",
       "            <td>141e5</td>\n",
       "            <td>Male</td>\n",
       "            <td>21</td>\n",
       "            <td>18-24</td>\n",
       "            <td>Germany</td>\n",
       "            <td>Danielsfort</td>\n",
       "            <td>food, fitness, lifestyle</td>\n",
       "        </tr>\n",
       "        <tr>\n",
       "            <td>34db0</td>\n",
       "            <td>Male</td>\n",
       "            <td>27</td>\n",
       "            <td>25-34</td>\n",
       "            <td>Australia</td>\n",
       "            <td>Vincentchester</td>\n",
       "            <td>fashion, news</td>\n",
       "        </tr>\n",
       "        <tr>\n",
       "            <td>20d08</td>\n",
       "            <td>Female</td>\n",
       "            <td>28</td>\n",
       "            <td>25-34</td>\n",
       "            <td>India</td>\n",
       "            <td>Lisaport</td>\n",
       "            <td>health, news, finance</td>\n",
       "        </tr>\n",
       "        <tr>\n",
       "            <td>9e830</td>\n",
       "            <td>Male</td>\n",
       "            <td>28</td>\n",
       "            <td>25-34</td>\n",
       "            <td>United States</td>\n",
       "            <td>Brownmouth</td>\n",
       "            <td>health, photography, lifestyle</td>\n",
       "        </tr>\n",
       "    </tbody>\n",
       "</table>"
      ],
      "text/plain": [
       "[('a2474', 'Female', 24, '18-24', 'United Kingdom', 'New Mariomouth', 'fitness, health'),\n",
       " ('141e5', 'Male', 21, '18-24', 'Germany', 'Danielsfort', 'food, fitness, lifestyle'),\n",
       " ('34db0', 'Male', 27, '25-34', 'Australia', 'Vincentchester', 'fashion, news'),\n",
       " ('20d08', 'Female', 28, '25-34', 'India', 'Lisaport', 'health, news, finance'),\n",
       " ('9e830', 'Male', 28, '25-34', 'United States', 'Brownmouth', 'health, photography, lifestyle')]"
      ]
     },
     "execution_count": 8,
     "metadata": {},
     "output_type": "execute_result"
    }
   ],
   "source": [
    "%sql SELECT * FROM users LIMIT 5;"
   ]
  },
  {
   "cell_type": "code",
   "execution_count": 9,
   "id": "df71776a-678b-458e-b08a-f2cd39a48700",
   "metadata": {},
   "outputs": [],
   "source": [
    "import pandas as pd"
   ]
  },
  {
   "cell_type": "markdown",
   "id": "de4e8627-870e-4e37-a3fc-99214945a4b1",
   "metadata": {},
   "source": [
    ">Now let’s see all the columns of every table in the database to plan our analysis:"
   ]
  },
  {
   "cell_type": "code",
   "execution_count": 10,
   "id": "8e398d32-a871-462b-984c-bb7bff32c0d0",
   "metadata": {},
   "outputs": [
    {
     "name": "stdout",
     "output_type": "stream",
     "text": [
      "Table: users\n",
      "['user_id', 'user_gender', 'user_age', 'age_group', 'country', 'location', 'interests'] \n",
      "\n",
      "Table: campaigns\n",
      "['campaign_id', 'name', 'start_date', 'end_date', 'duration_days', 'total_budget'] \n",
      "\n",
      "Table: ads\n",
      "['ad_id', 'campaign_id', 'ad_platform', 'ad_type', 'target_gender', 'target_age_group', 'target_interests'] \n",
      "\n",
      "Table: ad_events\n",
      "['event_id', 'ad_id', 'user_id', 'timestamp', 'day_of_week', 'time_of_day', 'event_type'] \n",
      "\n"
     ]
    }
   ],
   "source": [
    "tables = pd.read_sql_query(\n",
    "    \"SELECT name FROM sqlite_master WHERE type='table'\", conn).name\n",
    "\n",
    "for t in tables:\n",
    "    cols = pd.read_sql_query(f\"SELECT name FROM pragma_table_info('{t}')\", conn)\n",
    "    print(f\"Table: {t}\")\n",
    "    print(cols['name'].to_list(), \"\\n\")"
   ]
  },
  {
   "cell_type": "markdown",
   "id": "c7c77f2d-24f8-42cd-9c6d-d3fe23840bd7",
   "metadata": {},
   "source": [
    ">Now, we will answer questions generated by ChatGPT:"
   ]
  },
  {
   "cell_type": "markdown",
   "id": "31b86df4-b0d2-4c4e-a887-d64bb03c796f",
   "metadata": {},
   "source": [
    "---\n",
    "\"How many users are there in total, and how are they distributed by gender?\""
   ]
  },
  {
   "cell_type": "code",
   "execution_count": 42,
   "id": "c17148a7-f429-4a82-bbb9-0ec07884f437",
   "metadata": {},
   "outputs": [
    {
     "name": "stdout",
     "output_type": "stream",
     "text": [
      " * sqlite:///ad_campaign_db.sqlite\n",
      "Done.\n"
     ]
    },
    {
     "data": {
      "text/html": [
       "<table>\n",
       "    <thead>\n",
       "        <tr>\n",
       "            <th>men</th>\n",
       "            <th>women</th>\n",
       "        </tr>\n",
       "    </thead>\n",
       "    <tbody>\n",
       "        <tr>\n",
       "            <td>5521</td>\n",
       "            <td>3439</td>\n",
       "        </tr>\n",
       "    </tbody>\n",
       "</table>"
      ],
      "text/plain": [
       "[(5521, 3439)]"
      ]
     },
     "execution_count": 42,
     "metadata": {},
     "output_type": "execute_result"
    }
   ],
   "source": [
    "%%sql\n",
    "SELECT\n",
    "    COUNT(DISTINCT CASE WHEN user_gender = \"Male\" THEN user_id END) AS men,\n",
    "    COUNT(DISTINCT CASE WHEN user_gender = \"Female\" THEN user_id END) As women\n",
    "FROM users;"
   ]
  },
  {
   "cell_type": "markdown",
   "id": "7f1835d0-5b86-4e56-9b8e-1d8abfe953d9",
   "metadata": {},
   "source": [
    "---\n",
    "\"How many unique users engaged in each type of ad event (`event_type`)\""
   ]
  },
  {
   "cell_type": "code",
   "execution_count": 44,
   "id": "5c829891-59ac-45e2-ab3a-75a15b83d39e",
   "metadata": {},
   "outputs": [
    {
     "name": "stdout",
     "output_type": "stream",
     "text": [
      " * sqlite:///ad_campaign_db.sqlite\n",
      "Done.\n"
     ]
    },
    {
     "data": {
      "text/html": [
       "<table>\n",
       "    <thead>\n",
       "        <tr>\n",
       "            <th>event_type</th>\n",
       "            <th>unique_users</th>\n",
       "        </tr>\n",
       "    </thead>\n",
       "    <tbody>\n",
       "        <tr>\n",
       "            <td>Click</td>\n",
       "            <td>9772</td>\n",
       "        </tr>\n",
       "        <tr>\n",
       "            <td>Comment</td>\n",
       "            <td>3339</td>\n",
       "        </tr>\n",
       "        <tr>\n",
       "            <td>Impression</td>\n",
       "            <td>9950</td>\n",
       "        </tr>\n",
       "        <tr>\n",
       "            <td>Like</td>\n",
       "            <td>6959</td>\n",
       "        </tr>\n",
       "        <tr>\n",
       "            <td>Purchase</td>\n",
       "            <td>1835</td>\n",
       "        </tr>\n",
       "        <tr>\n",
       "            <td>Share</td>\n",
       "            <td>1789</td>\n",
       "        </tr>\n",
       "    </tbody>\n",
       "</table>"
      ],
      "text/plain": [
       "[('Click', 9772),\n",
       " ('Comment', 3339),\n",
       " ('Impression', 9950),\n",
       " ('Like', 6959),\n",
       " ('Purchase', 1835),\n",
       " ('Share', 1789)]"
      ]
     },
     "execution_count": 44,
     "metadata": {},
     "output_type": "execute_result"
    }
   ],
   "source": [
    "%%sql\n",
    "SELECT \n",
    "    event_type, COUNT(DISTINCT user_id) AS unique_users\n",
    "FROM ad_events\n",
    "GROUP BY event_type;"
   ]
  },
  {
   "cell_type": "markdown",
   "id": "2d0cf60f-4311-4fa1-9f33-46e9dffc8352",
   "metadata": {},
   "source": [
    "---\n",
    "Which day of the week had the highest number of ad clicks (`event_type = 'click'`) across all campaigns? Show the day and the number of clicks."
   ]
  },
  {
   "cell_type": "code",
   "execution_count": 55,
   "id": "04ee508f-775e-45cc-b2c2-8eeee57f73ef",
   "metadata": {},
   "outputs": [
    {
     "name": "stdout",
     "output_type": "stream",
     "text": [
      " * sqlite:///ad_campaign_db.sqlite\n",
      "Done.\n"
     ]
    },
    {
     "data": {
      "text/html": [
       "<table>\n",
       "    <thead>\n",
       "        <tr>\n",
       "            <th>day_of_week</th>\n",
       "            <th>total_clicks</th>\n",
       "        </tr>\n",
       "    </thead>\n",
       "    <tbody>\n",
       "        <tr>\n",
       "            <td>Friday</td>\n",
       "            <td>5828</td>\n",
       "        </tr>\n",
       "    </tbody>\n",
       "</table>"
      ],
      "text/plain": [
       "[('Friday', 5828)]"
      ]
     },
     "execution_count": 55,
     "metadata": {},
     "output_type": "execute_result"
    }
   ],
   "source": [
    "%%sql\n",
    "SELECT \n",
    "    ae.day_of_week,\n",
    "    COUNT(*) AS total_clicks\n",
    "FROM ad_events ae\n",
    "JOIN ads a \n",
    "    ON ae.ad_id = a.ad_id\n",
    "JOIN campaigns c \n",
    "    ON a.campaign_id = c.campaign_id\n",
    "WHERE ae.event_type = 'Click'\n",
    "GROUP BY ae.day_of_week\n",
    "ORDER BY total_clicks DESC\n",
    "LIMIT 1;"
   ]
  },
  {
   "cell_type": "markdown",
   "id": "0f5c2d77-3b6e-46b7-893a-da7fe8d07ec0",
   "metadata": {},
   "source": [
    "---\n",
    "Which ad platform had the most total ad events?"
   ]
  },
  {
   "cell_type": "code",
   "execution_count": 66,
   "id": "8259b291-0c5d-4153-9240-1bc9bf935d98",
   "metadata": {},
   "outputs": [
    {
     "name": "stdout",
     "output_type": "stream",
     "text": [
      " * sqlite:///ad_campaign_db.sqlite\n",
      "Done.\n"
     ]
    },
    {
     "data": {
      "text/html": [
       "<table>\n",
       "    <thead>\n",
       "        <tr>\n",
       "            <th>ad_platform</th>\n",
       "            <th>total_events</th>\n",
       "        </tr>\n",
       "    </thead>\n",
       "    <tbody>\n",
       "        <tr>\n",
       "            <td>Facebook</td>\n",
       "            <td>254096</td>\n",
       "        </tr>\n",
       "        <tr>\n",
       "            <td>Instagram</td>\n",
       "            <td>145904</td>\n",
       "        </tr>\n",
       "    </tbody>\n",
       "</table>"
      ],
      "text/plain": [
       "[('Facebook', 254096), ('Instagram', 145904)]"
      ]
     },
     "execution_count": 66,
     "metadata": {},
     "output_type": "execute_result"
    }
   ],
   "source": [
    "%%sql\n",
    "SELECT\n",
    "    a.ad_platform, COUNT(ae.ad_id) AS total_events\n",
    "FROM ads a, ad_events ae\n",
    "WHERE a.ad_id = ae.ad_id\n",
    "GROUP BY a.ad_platform\n",
    "ORDER BY total_events DESC;"
   ]
  },
  {
   "cell_type": "markdown",
   "id": "30515214-a3d2-43fd-8fcd-6cff946f83b6",
   "metadata": {},
   "source": [
    "---\n",
    "Which age group has the highest number of users targeted by ads?"
   ]
  },
  {
   "cell_type": "code",
   "execution_count": 70,
   "id": "2baa9ca4-4661-4a89-98f4-2ec7adcf91b1",
   "metadata": {},
   "outputs": [
    {
     "name": "stdout",
     "output_type": "stream",
     "text": [
      " * sqlite:///ad_campaign_db.sqlite\n",
      "Done.\n"
     ]
    },
    {
     "data": {
      "text/html": [
       "<table>\n",
       "    <thead>\n",
       "        <tr>\n",
       "            <th>target_age_group</th>\n",
       "            <th>unique_users</th>\n",
       "        </tr>\n",
       "    </thead>\n",
       "    <tbody>\n",
       "        <tr>\n",
       "            <td>25-34</td>\n",
       "            <td>4127</td>\n",
       "        </tr>\n",
       "        <tr>\n",
       "            <td>18-24</td>\n",
       "            <td>3115</td>\n",
       "        </tr>\n",
       "        <tr>\n",
       "            <td>35-44</td>\n",
       "            <td>1454</td>\n",
       "        </tr>\n",
       "    </tbody>\n",
       "</table>"
      ],
      "text/plain": [
       "[('25-34', 4127), ('18-24', 3115), ('35-44', 1454)]"
      ]
     },
     "execution_count": 70,
     "metadata": {},
     "output_type": "execute_result"
    }
   ],
   "source": [
    "%%sql\n",
    "SELECT\n",
    "    a.target_age_group, COUNT(DISTINCT ae.user_id) AS unique_users\n",
    "FROM ads a\n",
    "JOIN ad_events ae ON a.ad_id = ae.ad_id\n",
    "JOIN users u ON ae.user_id = u.user_id AND a.target_age_group = u.age_group\n",
    "GROUP BY a.target_age_group\n",
    "ORDER BY unique_users DESC;"
   ]
  },
  {
   "cell_type": "markdown",
   "id": "2198ab44-eda5-4f69-a6a9-503e90b47549",
   "metadata": {},
   "source": [
    "---\n",
    "How many ads are there per ad type?"
   ]
  },
  {
   "cell_type": "code",
   "execution_count": 79,
   "id": "347a972d-7025-4e36-93b6-bdee2c0eb53b",
   "metadata": {},
   "outputs": [
    {
     "name": "stdout",
     "output_type": "stream",
     "text": [
      " * sqlite:///ad_campaign_db.sqlite\n",
      "Done.\n"
     ]
    },
    {
     "data": {
      "text/html": [
       "<table>\n",
       "    <thead>\n",
       "        <tr>\n",
       "            <th>ad_type</th>\n",
       "            <th>frequency</th>\n",
       "        </tr>\n",
       "    </thead>\n",
       "    <tbody>\n",
       "        <tr>\n",
       "            <td>Stories</td>\n",
       "            <td>64</td>\n",
       "        </tr>\n",
       "        <tr>\n",
       "            <td>Image</td>\n",
       "            <td>52</td>\n",
       "        </tr>\n",
       "        <tr>\n",
       "            <td>Carousel</td>\n",
       "            <td>51</td>\n",
       "        </tr>\n",
       "        <tr>\n",
       "            <td>Video</td>\n",
       "            <td>33</td>\n",
       "        </tr>\n",
       "    </tbody>\n",
       "</table>"
      ],
      "text/plain": [
       "[('Stories', 64), ('Image', 52), ('Carousel', 51), ('Video', 33)]"
      ]
     },
     "execution_count": 79,
     "metadata": {},
     "output_type": "execute_result"
    }
   ],
   "source": [
    "%%sql\n",
    "SELECT ad_type, COUNT(ad_type) AS frequency FROM ads\n",
    "GROUP BY ad_type\n",
    "ORDER BY frequency DESC;"
   ]
  },
  {
   "cell_type": "markdown",
   "id": "6961ea59-2ff9-4a4c-9f42-e42b95183726",
   "metadata": {},
   "source": [
    "---\n",
    "For each ad platform, what is the average duration (in days) of campaigns that ran ads on that platform?"
   ]
  },
  {
   "cell_type": "code",
   "execution_count": 81,
   "id": "d78d49b4-9d35-40df-9233-bc6dd279cf15",
   "metadata": {},
   "outputs": [
    {
     "name": "stdout",
     "output_type": "stream",
     "text": [
      " * sqlite:///ad_campaign_db.sqlite\n",
      "Done.\n"
     ]
    },
    {
     "data": {
      "text/html": [
       "<table>\n",
       "    <thead>\n",
       "        <tr>\n",
       "            <th>ad_platform</th>\n",
       "            <th>AVG(c.duration_days)</th>\n",
       "        </tr>\n",
       "    </thead>\n",
       "    <tbody>\n",
       "        <tr>\n",
       "            <td>Facebook</td>\n",
       "            <td>66.48031496062993</td>\n",
       "        </tr>\n",
       "        <tr>\n",
       "            <td>Instagram</td>\n",
       "            <td>66.15068493150685</td>\n",
       "        </tr>\n",
       "    </tbody>\n",
       "</table>"
      ],
      "text/plain": [
       "[('Facebook', 66.48031496062993), ('Instagram', 66.15068493150685)]"
      ]
     },
     "execution_count": 81,
     "metadata": {},
     "output_type": "execute_result"
    }
   ],
   "source": [
    "%%sql\n",
    "SELECT a.ad_platform, AVG(c.duration_days)\n",
    "FROM ads a\n",
    "JOIN campaigns c ON c.campaign_id = a.campaign_id\n",
    "GROUP BY a.ad_platform;"
   ]
  },
  {
   "cell_type": "markdown",
   "id": "e6bfa21b-73c7-453a-80ce-43e9a7fc6550",
   "metadata": {},
   "source": [
    "---\n",
    "Which country has the highest number of users who clicked on ads?"
   ]
  },
  {
   "cell_type": "code",
   "execution_count": 84,
   "id": "3926dbff-b643-4be6-a1c7-849f7ef088b9",
   "metadata": {},
   "outputs": [
    {
     "name": "stdout",
     "output_type": "stream",
     "text": [
      " * sqlite:///ad_campaign_db.sqlite\n",
      "Done.\n"
     ]
    },
    {
     "data": {
      "text/html": [
       "<table>\n",
       "    <thead>\n",
       "        <tr>\n",
       "            <th>country</th>\n",
       "            <th>clicks</th>\n",
       "        </tr>\n",
       "    </thead>\n",
       "    <tbody>\n",
       "        <tr>\n",
       "            <td>United States</td>\n",
       "            <td>12292</td>\n",
       "        </tr>\n",
       "    </tbody>\n",
       "</table>"
      ],
      "text/plain": [
       "[('United States', 12292)]"
      ]
     },
     "execution_count": 84,
     "metadata": {},
     "output_type": "execute_result"
    }
   ],
   "source": [
    "%%sql\n",
    "SELECT u.country, COUNT(ae.event_type) AS clicks\n",
    "FROM users u\n",
    "JOIN ad_events ae ON u.user_id = ae.user_id\n",
    "WHERE event_type='Click'\n",
    "GROUP BY u.country\n",
    "ORDER BY clicks DESC LIMIT 1;"
   ]
  },
  {
   "cell_type": "markdown",
   "id": "2d834c38-18ee-451a-8a3f-d0595565a3e5",
   "metadata": {},
   "source": [
    "---\n",
    "For each campaign, what’s the percentage of ad events that were clicks compared to all events?"
   ]
  },
  {
   "cell_type": "code",
   "execution_count": 95,
   "id": "089f26d9-dc5f-4290-8a3b-8e769dbb3b7a",
   "metadata": {},
   "outputs": [
    {
     "name": "stdout",
     "output_type": "stream",
     "text": [
      " * sqlite:///ad_campaign_db.sqlite\n",
      "Done.\n"
     ]
    },
    {
     "data": {
      "text/html": [
       "<table>\n",
       "    <thead>\n",
       "        <tr>\n",
       "            <th>name</th>\n",
       "            <th>click_percentage</th>\n",
       "        </tr>\n",
       "    </thead>\n",
       "    <tbody>\n",
       "        <tr>\n",
       "            <td>Campaign_12_Q3</td>\n",
       "            <td>10.913140311804009</td>\n",
       "        </tr>\n",
       "        <tr>\n",
       "            <td>Campaign_22_Q3</td>\n",
       "            <td>10.711462450592885</td>\n",
       "        </tr>\n",
       "        <tr>\n",
       "            <td>Campaign_39_Q3</td>\n",
       "            <td>10.477127397934087</td>\n",
       "        </tr>\n",
       "        <tr>\n",
       "            <td>Campaign_19_Winter</td>\n",
       "            <td>10.454091816367265</td>\n",
       "        </tr>\n",
       "        <tr>\n",
       "            <td>Campaign_30_Winter</td>\n",
       "            <td>10.440864243786686</td>\n",
       "        </tr>\n",
       "    </tbody>\n",
       "</table>"
      ],
      "text/plain": [
       "[('Campaign_12_Q3', 10.913140311804009),\n",
       " ('Campaign_22_Q3', 10.711462450592885),\n",
       " ('Campaign_39_Q3', 10.477127397934087),\n",
       " ('Campaign_19_Winter', 10.454091816367265),\n",
       " ('Campaign_30_Winter', 10.440864243786686)]"
      ]
     },
     "execution_count": 95,
     "metadata": {},
     "output_type": "execute_result"
    }
   ],
   "source": [
    "%%sql\n",
    "SELECT \n",
    "  c.name, \n",
    "  100.0 * SUM(CASE WHEN ae.event_type = 'Click' THEN 1 ELSE 0 END) / COUNT(*) AS click_percentage\n",
    "FROM campaigns c\n",
    "JOIN ads a ON c.campaign_id = a.campaign_id\n",
    "JOIN ad_events ae ON a.ad_id = ae.ad_id\n",
    "GROUP BY c.name\n",
    "ORDER BY click_percentage DESC\n",
    "LIMIT 5;"
   ]
  },
  {
   "cell_type": "markdown",
   "id": "a53c03b5-7a1c-4064-b59d-714fddefbc7e",
   "metadata": {},
   "source": [
    "---\n",
    "Identify the top 3 campaigns with the highest number of unique users in the age group “18-24” who interacted with their ads."
   ]
  },
  {
   "cell_type": "code",
   "execution_count": 102,
   "id": "e5413fa4-7550-495d-b288-a90916f266d1",
   "metadata": {},
   "outputs": [
    {
     "name": "stdout",
     "output_type": "stream",
     "text": [
      " * sqlite:///ad_campaign_db.sqlite\n",
      "Done.\n"
     ]
    },
    {
     "data": {
      "text/html": [
       "<table>\n",
       "    <thead>\n",
       "        <tr>\n",
       "            <th>name</th>\n",
       "            <th>unique_users</th>\n",
       "        </tr>\n",
       "    </thead>\n",
       "    <tbody>\n",
       "        <tr>\n",
       "            <td>Campaign_42_Summer</td>\n",
       "            <td>2516</td>\n",
       "        </tr>\n",
       "        <tr>\n",
       "            <td>Campaign_38_Q3</td>\n",
       "            <td>2510</td>\n",
       "        </tr>\n",
       "        <tr>\n",
       "            <td>Campaign_20_Winter</td>\n",
       "            <td>2491</td>\n",
       "        </tr>\n",
       "    </tbody>\n",
       "</table>"
      ],
      "text/plain": [
       "[('Campaign_42_Summer', 2516),\n",
       " ('Campaign_38_Q3', 2510),\n",
       " ('Campaign_20_Winter', 2491)]"
      ]
     },
     "execution_count": 102,
     "metadata": {},
     "output_type": "execute_result"
    }
   ],
   "source": [
    "%%sql\n",
    "SELECT\n",
    "    c.name, COUNT(DISTINCT u.user_id) AS unique_users\n",
    "FROM campaigns c\n",
    "JOIN ads a ON c.campaign_id = a.campaign_id\n",
    "JOIN ad_events ae ON a.ad_id = ae.ad_id\n",
    "JOIN users u ON ae.user_id = u.user_id\n",
    "WHERE u.age_group = \"18-24\"\n",
    "GROUP BY c.name\n",
    "ORDER BY unique_users DESC\n",
    "LIMIT 3;"
   ]
  },
  {
   "cell_type": "markdown",
   "id": "d1afe2cb-83e6-4765-82bf-e3e7c8ffba9c",
   "metadata": {},
   "source": [
    "---\n",
    "Now, we'll turn these database tables into dataframes and analyze them using BI tools:"
   ]
  },
  {
   "cell_type": "code",
   "execution_count": 103,
   "id": "726fe9c0-0b1b-4948-8754-88acc9a35afa",
   "metadata": {},
   "outputs": [],
   "source": [
    "from sqlalchemy import create_engine\n",
    "engine = create_engine(\"sqlite:///ad_campaign_db.sqlite\")"
   ]
  },
  {
   "cell_type": "code",
   "execution_count": 104,
   "id": "5268c261-1707-4756-a8d7-a9b4b9ed1a02",
   "metadata": {},
   "outputs": [],
   "source": [
    "users = pd.read_sql_table('users', con=engine)\n",
    "campaigns = pd.read_sql_table('campaigns', con=engine)\n",
    "ads = pd.read_sql_table('ads', con=engine)\n",
    "ad_events = pd.read_sql_table('ad_events', con=engine)"
   ]
  },
  {
   "cell_type": "code",
   "execution_count": 105,
   "id": "fdb686b1-c8f5-4a20-8ee3-3e5b506a1a09",
   "metadata": {},
   "outputs": [
    {
     "data": {
      "text/html": [
       "<div>\n",
       "<style scoped>\n",
       "    .dataframe tbody tr th:only-of-type {\n",
       "        vertical-align: middle;\n",
       "    }\n",
       "\n",
       "    .dataframe tbody tr th {\n",
       "        vertical-align: top;\n",
       "    }\n",
       "\n",
       "    .dataframe thead th {\n",
       "        text-align: right;\n",
       "    }\n",
       "</style>\n",
       "<table border=\"1\" class=\"dataframe\">\n",
       "  <thead>\n",
       "    <tr style=\"text-align: right;\">\n",
       "      <th></th>\n",
       "      <th>user_id</th>\n",
       "      <th>user_gender</th>\n",
       "      <th>user_age</th>\n",
       "      <th>age_group</th>\n",
       "      <th>country</th>\n",
       "      <th>location</th>\n",
       "      <th>interests</th>\n",
       "    </tr>\n",
       "  </thead>\n",
       "  <tbody>\n",
       "    <tr>\n",
       "      <th>0</th>\n",
       "      <td>a2474</td>\n",
       "      <td>Female</td>\n",
       "      <td>24</td>\n",
       "      <td>18-24</td>\n",
       "      <td>United Kingdom</td>\n",
       "      <td>New Mariomouth</td>\n",
       "      <td>fitness, health</td>\n",
       "    </tr>\n",
       "    <tr>\n",
       "      <th>1</th>\n",
       "      <td>141e5</td>\n",
       "      <td>Male</td>\n",
       "      <td>21</td>\n",
       "      <td>18-24</td>\n",
       "      <td>Germany</td>\n",
       "      <td>Danielsfort</td>\n",
       "      <td>food, fitness, lifestyle</td>\n",
       "    </tr>\n",
       "    <tr>\n",
       "      <th>2</th>\n",
       "      <td>34db0</td>\n",
       "      <td>Male</td>\n",
       "      <td>27</td>\n",
       "      <td>25-34</td>\n",
       "      <td>Australia</td>\n",
       "      <td>Vincentchester</td>\n",
       "      <td>fashion, news</td>\n",
       "    </tr>\n",
       "  </tbody>\n",
       "</table>\n",
       "</div>"
      ],
      "text/plain": [
       "  user_id user_gender  user_age age_group         country        location  \\\n",
       "0   a2474      Female        24     18-24  United Kingdom  New Mariomouth   \n",
       "1   141e5        Male        21     18-24         Germany     Danielsfort   \n",
       "2   34db0        Male        27     25-34       Australia  Vincentchester   \n",
       "\n",
       "                  interests  \n",
       "0           fitness, health  \n",
       "1  food, fitness, lifestyle  \n",
       "2             fashion, news  "
      ]
     },
     "execution_count": 105,
     "metadata": {},
     "output_type": "execute_result"
    }
   ],
   "source": [
    "users.head(3)"
   ]
  },
  {
   "cell_type": "code",
   "execution_count": 106,
   "id": "59fea783-aa78-4bf2-927d-70f7cf3f0cfc",
   "metadata": {},
   "outputs": [
    {
     "name": "stdout",
     "output_type": "stream",
     "text": [
      "users duplicates: 0, null values: 0\n",
      "campaigns duplicates: 0, null values: 0\n",
      "ads duplicates: 0, null values: 0\n",
      "ad_events duplicates: 0, null values: 0\n"
     ]
    }
   ],
   "source": [
    "for name, df in {'users': users, 'campaigns': campaigns, 'ads': ads, 'ad_events': ad_events}.items():\n",
    "    print(f\"{name} duplicates: {sum(df.duplicated())}, null values: {sum(df.isnull().sum())}\")"
   ]
  },
  {
   "cell_type": "markdown",
   "id": "806ff13d-07e4-4fd4-a175-90a13c6e357f",
   "metadata": {},
   "source": [
    "As mentioned in the README file, these data tables do not contain any duplicated rows or missing values.\n",
    "\n",
    "Next up, we shall export these dataframes as CSV files."
   ]
  },
  {
   "cell_type": "code",
   "execution_count": 107,
   "id": "d44eed51-5ed2-48c6-940f-583a87c28b0c",
   "metadata": {},
   "outputs": [],
   "source": [
    "for name, df in {'users': users, 'campaigns': campaigns, 'ads': ads, 'ad_events': ad_events}.items():\n",
    "    df.to_csv(f\"{name}.csv\", index=False)"
   ]
  }
 ],
 "metadata": {
  "kernelspec": {
   "display_name": "Python 3 (ipykernel)",
   "language": "python",
   "name": "python3"
  },
  "language_info": {
   "codemirror_mode": {
    "name": "ipython",
    "version": 3
   },
   "file_extension": ".py",
   "mimetype": "text/x-python",
   "name": "python",
   "nbconvert_exporter": "python",
   "pygments_lexer": "ipython3",
   "version": "3.13.1"
  }
 },
 "nbformat": 4,
 "nbformat_minor": 5
}
